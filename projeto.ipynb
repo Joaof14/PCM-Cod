{
  "cells": [
    {
      "cell_type": "markdown",
      "metadata": {
        "id": "view-in-github",
        "colab_type": "text"
      },
      "source": [
        "<a href=\"https://colab.research.google.com/github/Joaof14/PCM-Cod/blob/main/projeto.ipynb\" target=\"_parent\"><img src=\"https://colab.research.google.com/assets/colab-badge.svg\" alt=\"Open In Colab\"/></a>"
      ]
    },
    {
      "cell_type": "markdown",
      "source": [
        "# Projeto de Sistema de Transmissão de Dados\n"
      ],
      "metadata": {
        "id": "Quj7KEb_m_4L"
      },
      "id": "Quj7KEb_m_4L"
    },
    {
      "cell_type": "markdown",
      "source": [
        "## Pulse Code Modulation e Codificacao de Linha"
      ],
      "metadata": {
        "id": "-FYfbHq4nKsM"
      },
      "id": "-FYfbHq4nKsM"
    },
    {
      "cell_type": "markdown",
      "source": [
        "### Configurando ambiente"
      ],
      "metadata": {
        "id": "JyhyD1Axnbbt"
      },
      "id": "JyhyD1Axnbbt"
    },
    {
      "cell_type": "code",
      "execution_count": null,
      "id": "de31e1ec-5a7a-4e57-ad2c-618cbdd9e25f",
      "metadata": {
        "id": "de31e1ec-5a7a-4e57-ad2c-618cbdd9e25f"
      },
      "outputs": [],
      "source": [
        "#Importações de bibliotecas\n",
        "import numpy as np\n",
        "import matplotlib.pyplot as plt\n",
        "from scipy.io import wavfile\n",
        "from scipy import signal\n",
        "import warnings\n",
        "warnings.filterwarnings(\"ignore\")  # Ignorar avisos do matplotlib\n",
        "\n"
      ]
    },
    {
      "cell_type": "code",
      "source": [
        "# Configurações\n",
        "n_bits = 8  # Bits por amostra\n",
        "fs_audio = 44100  # Taxa de amostragem do áudio (Hz)\n",
        "fs_symbol = 44100  # 1 amostra por símbolo (bit)\n",
        "SNR_dB = np.arange(0, 20.5, 0.5)  # SNR de 0 a 20 dB em passos de 0.5 dB"
      ],
      "metadata": {
        "id": "UNgukXOnk4Zs"
      },
      "id": "UNgukXOnk4Zs",
      "execution_count": null,
      "outputs": []
    },
    {
      "cell_type": "code",
      "source": [
        "# Leitura do arquivo de áudio (substitua pelo seu arquivo .wav)\n",
        "fs_audio, sinal_analogico = wavfile.read('audio.wav')\n",
        "sinal_analogico = sinal_analogico / np.max(np.abs(sinal_analogico))  # Normalização [-1, 1]\n",
        "\n",
        "# Quantização PCM (8 bits)\n",
        "L = 2 ** n_bits\n",
        "sinal_quantizado = np.round(sinal_analogico * (L/2 - 1)) / (L/2 - 1)\n",
        "\n"
      ],
      "metadata": {
        "id": "q-aph8UGlD7O"
      },
      "id": "q-aph8UGlD7O",
      "execution_count": null,
      "outputs": []
    },
    {
      "cell_type": "markdown",
      "source": [
        "### Leitura do Audio e Quantizacao PCM"
      ],
      "metadata": {
        "id": "XKVmHOqMnjzY"
      },
      "id": "XKVmHOqMnjzY"
    },
    {
      "cell_type": "code",
      "source": [
        "# Codificação PCM para bits\n",
        "def pcm_encode(sinal, n_bits):\n",
        "    return [format(int((x + 1) * (2**n_bits - 1)/2), '0{}b'.format(n_bits)) for x in sinal]\n",
        "\n",
        "bits_pcm = pcm_encode(sinal_quantizado, n_bits)\n",
        "bits_flat = [int(bit) for palavra in bits_pcm for bit in palavra]  # Lista plana de bits"
      ],
      "metadata": {
        "id": "Ymtqe412mSiq"
      },
      "id": "Ymtqe412mSiq",
      "execution_count": null,
      "outputs": []
    },
    {
      "cell_type": "code",
      "source": [
        "##codificacoes de linha\n",
        "def codificacao_on_off(bits):\n",
        "    return [1 if bit == 1 else 0 for bit in bits]\n",
        "\n",
        "def codificacao_polar(bits):\n",
        "    return [1 if bit == 1 else -1 for bit in bits]\n",
        "\n",
        "def codificacao_manchester(bits):\n",
        "    return [1 if bit == 1 else -1 for bit in bits]  # Simplificado (implementação real requer clock)\n",
        "\n"
      ],
      "metadata": {
        "id": "aDsWYUBxmWg0"
      },
      "id": "aDsWYUBxmWg0",
      "execution_count": null,
      "outputs": []
    },
    {
      "cell_type": "code",
      "source": [],
      "metadata": {
        "id": "SPE3g-jDoR-4"
      },
      "id": "SPE3g-jDoR-4",
      "execution_count": null,
      "outputs": []
    },
    {
      "cell_type": "code",
      "source": [
        "# Aplicar codificação\n",
        "sinal_on_off = codificacao_on_off(bits_flat)\n",
        "sinal_polar = codificacao_polar(bits_flat)\n",
        "sinal_manchester = codificacao_manchester(bits_flat)"
      ],
      "metadata": {
        "id": "4xoWVrEPm69f"
      },
      "id": "4xoWVrEPm69f",
      "execution_count": null,
      "outputs": []
    }
  ],
  "metadata": {
    "kernelspec": {
      "display_name": "Python 3 (ipykernel)",
      "language": "python",
      "name": "python3"
    },
    "language_info": {
      "codemirror_mode": {
        "name": "ipython",
        "version": 3
      },
      "file_extension": ".py",
      "mimetype": "text/x-python",
      "name": "python",
      "nbconvert_exporter": "python",
      "pygments_lexer": "ipython3",
      "version": "3.11.7"
    },
    "colab": {
      "provenance": [],
      "include_colab_link": true
    }
  },
  "nbformat": 4,
  "nbformat_minor": 5
}