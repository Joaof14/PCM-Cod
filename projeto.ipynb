{
  "cells": [
    {
      "cell_type": "markdown",
      "metadata": {
        "id": "view-in-github",
        "colab_type": "text"
      },
      "source": [
        "<a href=\"https://colab.research.google.com/github/Joaof14/PCM-Cod/blob/main/projeto.ipynb\" target=\"_parent\"><img src=\"https://colab.research.google.com/assets/colab-badge.svg\" alt=\"Open In Colab\"/></a>"
      ]
    },
    {
      "cell_type": "markdown",
      "source": [
        "# Projeto de Sistema de Transmissão de Dados\n"
      ],
      "metadata": {
        "id": "Quj7KEb_m_4L"
      },
      "id": "Quj7KEb_m_4L"
    },
    {
      "cell_type": "markdown",
      "source": [
        "## Pulse Code Modulation e Codificacao de Linha"
      ],
      "metadata": {
        "id": "-FYfbHq4nKsM"
      },
      "id": "-FYfbHq4nKsM"
    },
    {
      "cell_type": "markdown",
      "source": [
        "### Configurando ambiente"
      ],
      "metadata": {
        "id": "JyhyD1Axnbbt"
      },
      "id": "JyhyD1Axnbbt"
    },
    {
      "cell_type": "code",
      "execution_count": null,
      "id": "de31e1ec-5a7a-4e57-ad2c-618cbdd9e25f",
      "metadata": {
        "id": "de31e1ec-5a7a-4e57-ad2c-618cbdd9e25f"
      },
      "outputs": [],
      "source": [
        "#Importações de bibliotecas\n",
        "import numpy as np\n",
        "import matplotlib.pyplot as plt\n",
        "from scipy.io import wavfile\n",
        "from scipy import signal\n",
        "import warnings\n",
        "warnings.filterwarnings(\"ignore\")  # Ignorar avisos do matplotlib\n",
        "\n"
      ]
    },
    {
      "cell_type": "code",
      "source": [
        "# Configurações\n",
        "n_bits = 8  # Bits por amostra\n",
        "fs_audio = 44100  # Taxa de amostragem do áudio (Hz)\n",
        "fs_symbol = 44100  # 1 amostra por símbolo (bit)\n",
        "SNR_dB = np.arange(0, 20.5, 0.5)  # SNR de 0 a 20 dB em passos de 0.5 dB"
      ],
      "metadata": {
        "id": "UNgukXOnk4Zs"
      },
      "id": "UNgukXOnk4Zs",
      "execution_count": null,
      "outputs": []
    },
    {
      "cell_type": "markdown",
      "source": [
        "### Leitura do Audio e Quantizacao PCM"
      ],
      "metadata": {
        "id": "XKVmHOqMnjzY"
      },
      "id": "XKVmHOqMnjzY"
    },
    {
      "cell_type": "code",
      "source": [
        "# Leitura do arquivo de áudio (substitua pelo seu arquivo .wav)\n",
        "fs_audio, sinal_analogico = wavfile.read('Better-Call-Saul-Intro-_qcJ3fqWT3a0_.wav')\n",
        "sinal_analogico = sinal_analogico / np.max(np.abs(sinal_analogico))  # Normalização [-1, 1]\n",
        "\n",
        "# Quantização PCM (8 bits)\n",
        "L = 2 ** n_bits\n",
        "sinal_quantizado = np.round(sinal_analogico * (L/2 - 1)) / (L/2 - 1)\n",
        "\n"
      ],
      "metadata": {
        "id": "q-aph8UGlD7O"
      },
      "id": "q-aph8UGlD7O",
      "execution_count": null,
      "outputs": []
    },
    {
      "cell_type": "code",
      "source": [
        "# Codificação PCM para bits\n",
        "def pcm_encode(sinal, n_bits):\n",
        "    return [format(int((x + 1) * (2**n_bits - 1)/2), '0{}b'.format(n_bits)) for x in sinal]\n",
        "\n",
        "bits_pcm = pcm_encode(sinal_quantizado, n_bits)\n",
        "bits_flat = [int(bit) for palavra in bits_pcm for bit in palavra]  # Lista plana de bits"
      ],
      "metadata": {
        "id": "Ymtqe412mSiq"
      },
      "id": "Ymtqe412mSiq",
      "execution_count": null,
      "outputs": []
    },
    {
      "cell_type": "code",
      "source": [
        "##codificacoes de linha\n",
        "def codificacao_on_off(bits):\n",
        "    return [1 if bit == 1 else 0 for bit in bits]\n",
        "\n",
        "def codificacao_polar(bits):\n",
        "    return [1 if bit == 1 else -1 for bit in bits]\n",
        "\n",
        "def codificacao_manchester(bits):\n",
        "    return [1 if bit == 1 else -1 for bit in bits]  # Simplificado (implementação real requer clock)\n",
        "\n"
      ],
      "metadata": {
        "id": "aDsWYUBxmWg0"
      },
      "id": "aDsWYUBxmWg0",
      "execution_count": null,
      "outputs": []
    },
    {
      "cell_type": "code",
      "source": [
        "# Aplicar codificação\n",
        "sinal_on_off = codificacao_on_off(bits_flat)\n",
        "sinal_polar = codificacao_polar(bits_flat)\n",
        "sinal_manchester = codificacao_manchester(bits_flat)"
      ],
      "metadata": {
        "id": "4xoWVrEPm69f"
      },
      "id": "4xoWVrEPm69f",
      "execution_count": null,
      "outputs": []
    },
    {
      "cell_type": "markdown",
      "source": [
        "### Transmissao em Canal AWGN e Deteccao"
      ],
      "metadata": {
        "id": "kQnQa7mDpM9H"
      },
      "id": "kQnQa7mDpM9H"
    },
    {
      "cell_type": "code",
      "source": [
        "def transmissao_awgn(sinal_codificado, snr_db):\n",
        "    potencia_sinal = np.mean(np.array(sinal_codificado) ** 2)\n",
        "    potencia_ruido = potencia_sinal / (10 ** (snr_db / 10))\n",
        "    ruido = np.random.normal(0, np.sqrt(potencia_ruido), len(sinal_codificado))\n",
        "    sinal_ruidoso = sinal_codificado + ruido\n",
        "    return sinal_ruidoso\n",
        "\n",
        "def detector_limiar(sinal_recebido, limiar=0):\n",
        "    return [1 if x >= limiar else 0 for x in sinal_recebido]"
      ],
      "metadata": {
        "id": "2hH6tiVUpRWA"
      },
      "id": "2hH6tiVUpRWA",
      "execution_count": null,
      "outputs": []
    },
    {
      "cell_type": "markdown",
      "source": [
        "### Calculo da taxxa de erro de bit (BER) para cada codificacao"
      ],
      "metadata": {
        "id": "MXNMoZa_paid"
      },
      "id": "MXNMoZa_paid"
    },
    {
      "cell_type": "code",
      "source": [
        "ber_on_off = []\n",
        "ber_polar = []\n",
        "ber_manchester = []\n",
        "\n",
        "for snr in SNR_dB:\n",
        "    # On-Off\n",
        "    sinal_rx_on_off = transmissao_awgn(sinal_on_off, snr)\n",
        "    bits_rx_on_off = detector_limiar(sinal_rx_on_off, limiar=0.5)  # Limiar = 0.5 (On-Off)\n",
        "    ber_on_off.append(np.sum(np.abs(np.array(bits_flat) - np.array(bits_rx_on_off))) / len(bits_flat))\n",
        "\n",
        "    # Polar\n",
        "    sinal_rx_polar = transmissao_awgn(sinal_polar, snr)\n",
        "    bits_rx_polar = detector_limiar(sinal_rx_polar, limiar=0)  # Limiar = 0 (Polar)\n",
        "    ber_polar.append(np.sum(np.abs(np.array(bits_flat) - np.array(bits_rx_polar))) / len(bits_flat))\n",
        "\n",
        "    # Manchester (detecção diferencial)\n",
        "    sinal_rx_manchester = transmissao_awgn(sinal_manchester, snr)\n",
        "    bits_rx_manchester = detector_limiar(sinal_rx_manchester, limiar=0)\n",
        "    ber_manchester.append(np.sum(np.abs(np.array(bits_flat) - np.array(bits_rx_manchester))) / len(bits_flat))"
      ],
      "metadata": {
        "id": "AvPGTY3mpiMs"
      },
      "id": "AvPGTY3mpiMs",
      "execution_count": null,
      "outputs": []
    },
    {
      "cell_type": "markdown",
      "source": [
        "### Grafico de BER x Relacao Sinal Ruido (SNR)"
      ],
      "metadata": {
        "id": "3Rel2uGapn8H"
      },
      "id": "3Rel2uGapn8H"
    },
    {
      "cell_type": "code",
      "source": [
        "plt.figure(figsize=(10, 6))\n",
        "plt.semilogy(SNR_dB, ber_on_off, label='On-Off', marker='o')\n",
        "plt.semilogy(SNR_dB, ber_polar, label='Polar', marker='s')\n",
        "plt.semilogy(SNR_dB, ber_manchester, label='Manchester', marker='^')\n",
        "plt.xlabel('SNR (dB)')\n",
        "plt.ylabel('BER (Bit Error Rate)')\n",
        "plt.title('Desempenho das Codificações de Linha em Canal AWGN')\n",
        "plt.grid(True, which=\"both\", ls=\"--\")\n",
        "plt.legend()\n",
        "plt.show()"
      ],
      "metadata": {
        "id": "_i37PLTlpwyh"
      },
      "id": "_i37PLTlpwyh",
      "execution_count": null,
      "outputs": []
    }
  ],
  "metadata": {
    "kernelspec": {
      "display_name": "Python 3 (ipykernel)",
      "language": "python",
      "name": "python3"
    },
    "language_info": {
      "codemirror_mode": {
        "name": "ipython",
        "version": 3
      },
      "file_extension": ".py",
      "mimetype": "text/x-python",
      "name": "python",
      "nbconvert_exporter": "python",
      "pygments_lexer": "ipython3",
      "version": "3.11.7"
    },
    "colab": {
      "provenance": [],
      "include_colab_link": true
    }
  },
  "nbformat": 4,
  "nbformat_minor": 5
}