{
 "cells": [
  {
   "cell_type": "markdown",
   "id": "11da8f75",
   "metadata": {
    "colab_type": "text",
    "id": "view-in-github"
   },
   "source": [
    "<a href=\"https://colab.research.google.com/github/Joaof14/PCM-Cod/blob/main/projeto.ipynb\" target=\"_parent\"><img src=\"https://colab.research.google.com/assets/colab-badge.svg\" alt=\"Open In Colab\"/></a>"
   ]
  },
  {
   "cell_type": "markdown",
   "id": "Quj7KEb_m_4L",
   "metadata": {
    "id": "Quj7KEb_m_4L"
   },
   "source": [
    "# Projeto de Sistema de Transmissão de Dados\n"
   ]
  },
  {
   "cell_type": "markdown",
   "id": "-FYfbHq4nKsM",
   "metadata": {
    "id": "-FYfbHq4nKsM"
   },
   "source": [
    "## Pulse Code Modulation e Codificacao de Linha"
   ]
  },
  {
   "cell_type": "markdown",
   "id": "JyhyD1Axnbbt",
   "metadata": {
    "id": "JyhyD1Axnbbt"
   },
   "source": [
    "### Configurando ambiente"
   ]
  },
  {
   "cell_type": "code",
   "execution_count": null,
   "id": "de31e1ec-5a7a-4e57-ad2c-618cbdd9e25f",
   "metadata": {
    "id": "de31e1ec-5a7a-4e57-ad2c-618cbdd9e25f"
   },
   "outputs": [],
   "source": [
    "#Importações de bibliotecas\n",
    "import numpy as np\n",
    "import matplotlib.pyplot as plt\n",
    "from scipy.io import wavfile\n",
    "from scipy import signal\n",
    "import warnings\n",
    "warnings.filterwarnings(\"ignore\")  # Ignorar avisos do matplotlib\n",
    "\n"
   ]
  },
  {
   "cell_type": "code",
   "execution_count": null,
   "id": "UNgukXOnk4Zs",
   "metadata": {
    "id": "UNgukXOnk4Zs"
   },
   "outputs": [],
   "source": [
    "# Configurações\n",
    "n_bits = 8  # Bits por amostra\n",
    "SNR_dB = np.arange(0, 20.5, 0.5)  # SNR de 0 a 20 dB em passos de 0.5 dB"
   ]
  },
  {
   "cell_type": "markdown",
   "id": "XKVmHOqMnjzY",
   "metadata": {
    "id": "XKVmHOqMnjzY"
   },
   "source": [
    "### Leitura do Audio e Quantização PCM"
   ]
  },
  {
   "cell_type": "code",
   "execution_count": null,
   "id": "q-aph8UGlD7O",
   "metadata": {
    "id": "q-aph8UGlD7O"
   },
   "outputs": [],
   "source": [
    "# Leitura do arquivo de áudio (substitua pelo seu arquivo .wav)\n",
    "fs_audio, sinal_analogico = wavfile.read('Better-Call-Saul-Intro.wav')\n",
    "\n",
    "# Converter para mono se for estéreo\n",
    "if sinal_analogico.ndim > 1:\n",
    "    sinal_analogico = sinal_analogico[:, 0]  # Pega apenas o primeiro canal\n",
    "\n",
    "# Normalização para [-1, 1]\n",
    "sinal_analogico = sinal_analogico.astype(np.float64)\n",
    "max_val = np.max(np.abs(sinal_analogico))\n",
    "if max_val > 0:\n",
    "    sinal_analogico /= max_val\n",
    "\n",
    "\n",
    "# Quantização PCM (8 bits)\n",
    "L = 2 ** n_bits\n",
    "sinal_quantizado = np.round(sinal_analogico * (L/2 - 1)) / (L/2 - 1)\n",
    "\n"
   ]
  },
  {
   "cell_type": "code",
   "execution_count": null,
   "id": "Ymtqe412mSiq",
   "metadata": {
    "id": "Ymtqe412mSiq",
    "scrolled": true
   },
   "outputs": [],
   "source": [
    "def pcm_encode(sinal, n_bits):\n",
    "    # Converter para valores inteiros de 0 a 255\n",
    "    sinal_flat = sinal.flatten()  # Garante array 1D\n",
    "    valores_inteiros = ((sinal_flat + 1) * (2**n_bits - 1)/2).clip(0, 2**n_bits-1).round().astype(int)\n",
    "    \n",
    "    # Converte para binário\n",
    "    binary_strings = []\n",
    "    for x in valores_inteiros:\n",
    "        # Formata para string binária com n_bits dígitos\n",
    "        bin_str = bin(x)[2:]  # Remove o '0b' inicial\n",
    "        bin_str = bin_str.zfill(n_bits)  # Preenche com zeros à esquerda\n",
    "        binary_strings.append(bin_str)\n",
    "    \n",
    "    return binary_strings\n",
    "\n",
    "# 5. Codificação\n",
    "bits_pcm = pcm_encode(sinal_quantizado, n_bits)\n",
    "bits_flat = np.array([int(bit) for palavra in bits_pcm for bit in palavra])\n"
   ]
  },
  {
   "cell_type": "code",
   "execution_count": null,
   "id": "aDsWYUBxmWg0",
   "metadata": {
    "id": "aDsWYUBxmWg0"
   },
   "outputs": [],
   "source": [
    "# Codificação On-Off: 1 → 1V, 0 → 0V\n",
    "def codificacao_on_off(bits):\n",
    "    return np.array(bits, dtype=np.float64)\n",
    "\n",
    "# Codificação Polar: 1 → +1V, 0 → -1V\n",
    "def codificacao_polar(bits):\n",
    "    return 2 * np.array(bits, dtype=np.float64) - 1\n",
    "\n",
    "# Codificação Manchester (idealizada): 1 → [1, -1], 0 → [-1, 1]\n",
    "def codificacao_manchester(bits):\n",
    "    bits_array = np.array(bits)\n",
    "    manchester = np.empty(bits_array.size * 2)\n",
    "    manchester[0::2] = 2 * bits_array - 1    # Primeiro meio-bit: 1 → +1, 0 → -1\n",
    "    manchester[1::2] = -manchester[0::2]     # Segundo meio-bit é o inverso\n",
    "    return manchester\n"
   ]
  },
  {
   "cell_type": "code",
   "execution_count": null,
   "id": "4xoWVrEPm69f",
   "metadata": {
    "id": "4xoWVrEPm69f"
   },
   "outputs": [],
   "source": [
    "# Aplicar codificação\n",
    "sinal_on_off = codificacao_on_off(bits_flat)\n",
    "sinal_polar = codificacao_polar(bits_flat)\n",
    "sinal_manchester = codificacao_manchester(bits_flat)"
   ]
  },
  {
   "cell_type": "markdown",
   "id": "kQnQa7mDpM9H",
   "metadata": {
    "id": "kQnQa7mDpM9H"
   },
   "source": [
    "### Transmissão em Canal AWGN e Deteccao"
   ]
  },
  {
   "cell_type": "code",
   "execution_count": null,
   "id": "2hH6tiVUpRWA",
   "metadata": {
    "id": "2hH6tiVUpRWA"
   },
   "outputs": [],
   "source": [
    "def transmissao_awgn(sinal_codificado, snr_db):\n",
    "    potencia_sinal = np.mean(np.array(sinal_codificado) ** 2)\n",
    "    potencia_ruido = potencia_sinal / (10 ** (snr_db / 10))\n",
    "    ruido = np.random.normal(0, np.sqrt(potencia_ruido), len(sinal_codificado))\n",
    "    sinal_ruidoso = sinal_codificado + ruido\n",
    "    return sinal_ruidoso\n",
    "\n",
    "def detector_limiar_np(sinal_recebido, limiar=0):\n",
    "    return (sinal_recebido >= limiar).astype(int)\n",
    "\n",
    "def calcular_ber(original_bits, recebidos_bits):\n",
    "    return np.mean(original_bits != recebidos_bits)\n"
   ]
  },
  {
   "cell_type": "markdown",
   "id": "MXNMoZa_paid",
   "metadata": {
    "id": "MXNMoZa_paid"
   },
   "source": [
    "### Calculo da taxa de erro de bit (BER) para cada codificacao"
   ]
  },
  {
   "cell_type": "code",
   "execution_count": null,
   "id": "AvPGTY3mpiMs",
   "metadata": {
    "id": "AvPGTY3mpiMs"
   },
   "outputs": [],
   "source": [
    "ber_on_off = []\n",
    "ber_polar = []\n",
    "ber_manchester = []\n",
    "\n",
    "for snr in SNR_dB:\n",
    "    # --- On-Off ---\n",
    "    sinal_rx_on_off = transmissao_awgn(sinal_on_off, snr)\n",
    "    bits_rx_on_off = detector_limiar_np(sinal_rx_on_off, limiar=0.5)\n",
    "    ber_on_off.append(calcular_ber(bits_flat, bits_rx_on_off))\n",
    "\n",
    "    # --- Polar ---\n",
    "    sinal_rx_polar = transmissao_awgn(sinal_polar, snr)\n",
    "    bits_rx_polar = detector_limiar_np(sinal_rx_polar, limiar=0)\n",
    "    ber_polar.append(calcular_ber(bits_flat, bits_rx_polar))\n",
    "\n",
    "    # --- Manchester ---\n",
    "    sinal_rx_manchester = transmissao_awgn(sinal_manchester, snr)\n",
    "    # Reconstruir bits pela média de cada par (duas amostras por bit)\n",
    "    pares = sinal_rx_manchester.reshape(-1, 2)\n",
    "    media_pares = np.mean(pares, axis=1)\n",
    "    bits_rx_manchester = detector_limiar_np(media_pares, limiar=0)\n",
    "    ber_manchester.append(calcular_ber(bits_flat, bits_rx_manchester))\n"
   ]
  },
  {
   "cell_type": "markdown",
   "id": "3Rel2uGapn8H",
   "metadata": {
    "id": "3Rel2uGapn8H"
   },
   "source": [
    "### Grafico de BER x Relacao Sinal Ruído (SNR)"
   ]
  },
  {
   "cell_type": "code",
   "execution_count": null,
   "id": "_i37PLTlpwyh",
   "metadata": {
    "id": "_i37PLTlpwyh"
   },
   "outputs": [],
   "source": [
    "plt.figure(figsize=(10, 6))\n",
    "plt.semilogy(SNR_dB, ber_on_off, label='On-Off', marker='o')\n",
    "plt.semilogy(SNR_dB, ber_polar, label='Polar', marker='s')\n",
    "plt.semilogy(SNR_dB, ber_manchester, label='Manchester', marker='^')\n",
    "plt.xlabel('SNR (dB)')\n",
    "plt.ylabel('BER (Bit Error Rate)')\n",
    "plt.title('Desempenho das Codificações de Linha em Canal AWGN')\n",
    "plt.grid(True, which=\"both\", ls=\"--\")\n",
    "plt.legend()\n",
    "plt.show()"
   ]
  },
  {
   "cell_type": "markdown",
   "id": "b1f75fc6-f7bb-4019-b754-f8cce3764353",
   "metadata": {},
   "source": [
    "#### Comentários"
   ]
  },
  {
   "cell_type": "code",
   "execution_count": null,
   "id": "31ad55ce-3633-4cfe-bea4-8748b9a6adf0",
   "metadata": {},
   "outputs": [],
   "source": []
  }
 ],
 "metadata": {
  "colab": {
   "include_colab_link": true,
   "provenance": []
  },
  "kernelspec": {
   "display_name": "Python 3 (ipykernel)",
   "language": "python",
   "name": "python3"
  },
  "language_info": {
   "codemirror_mode": {
    "name": "ipython",
    "version": 3
   },
   "file_extension": ".py",
   "mimetype": "text/x-python",
   "name": "python",
   "nbconvert_exporter": "python",
   "pygments_lexer": "ipython3",
   "version": "3.11.7"
  }
 },
 "nbformat": 4,
 "nbformat_minor": 5
}
